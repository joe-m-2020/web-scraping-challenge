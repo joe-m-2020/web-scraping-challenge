{
 "cells": [
  {
   "cell_type": "code",
   "execution_count": 13,
   "metadata": {},
   "outputs": [],
   "source": [
    "from splinter import Browser\n",
    "from bs4 import BeautifulSoup"
   ]
  },
  {
   "cell_type": "code",
   "execution_count": 14,
   "metadata": {},
   "outputs": [],
   "source": [
    "executable_path = {'executable_path': 'chromedriver.exe'}\n",
    "browser = Browser('chrome', **executable_path, headless=False)"
   ]
  },
  {
   "cell_type": "code",
   "execution_count": 15,
   "metadata": {},
   "outputs": [],
   "source": [
    "url = 'https://mars.nasa.gov/news/'\n",
    "browser.visit(url)"
   ]
  },
  {
   "cell_type": "code",
   "execution_count": 101,
   "metadata": {},
   "outputs": [
    {
     "name": "stdout",
     "output_type": "stream",
     "text": [
      "['NASA Moves Forward With Campaign to Return Mars Samples to Earth', \"3 Things We've Learned From NASA's Mars InSight \", \"From JPL's Mailroom to Mars and Beyond\", \"5 Hidden Gems Are Riding Aboard NASA's Perseverance Rover\", 'MOXIE Could Help Future Rockets Launch Off Mars', \"Hear Audio From NASA's Perseverance As It Travels Through Deep Space\", 'Mars Is Getting a New Robotic Meteorologist', 'Heat and Dust Help Launch Martian Water Into Space, Scientists Find', \"NASA's Curiosity Takes Selfie With 'Mary Anning' on the Red Planet\", 'Independent Review Indicates NASA Prepared for Mars Sample Return Campaign', \"NASA's Perseverance Rover 100 Days Out\", \"NASA's Perseverance Rover Is Midway to Mars \", 'Sensors on Mars 2020 Spacecraft Answer Long-Distance Call From Earth', \"NASA's Perseverance Rover Bringing 3D-Printed Metal Parts to Mars\", \"NASA InSight's 'Mole' Is Out of Sight\", \"NASA's Perseverance Rover Will Peer Beneath Mars' Surface \", 'AI Is Helping Scientists Discover Fresh Craters on Mars', \"NASA's New Mars Rover Is Ready for Space Lasers\", \"NASA's New Mars Rover Will Use X-Rays to Hunt Fossils\", 'My Culture, My Voice', \"NASA Readies Perseverance Mars Rover's Earthly Twin \", \"NASA Engineers Checking InSight's Weather Sensors\", \"Follow NASA's Perseverance Rover in Real Time on Its Way to Mars\", 'NASA Establishes Board to Initially Review Mars Sample Return Plans', \"NASA's Ingenuity Mars Helicopter Recharges Its Batteries in Flight\", \"Celebrate Mars Reconnaissance Orbiter's Views From Above\", \"NASA's MAVEN Observes Martian Night Sky Pulsing in Ultraviolet Light\", \"8 Martian Postcards to Celebrate Curiosity's Landing Anniversary\", 'NASA, ULA Launch Mars 2020 Perseverance Rover Mission to Red Planet', \"NASA's Perseverance Rover Will Carry First Spacesuit Materials to Mars\", \"A New Video Captures the Science of NASA's Perseverance Mars Rover\", 'NASA Invites Public to Share Excitement of Mars 2020 Perseverance Rover Launch', \"NASA's Mars Perseverance Rover Passes Flight Readiness Review\", 'NASA to Broadcast Mars 2020 Perseverance Launch, Prelaunch Activities', \"6 Things to Know About NASA's Ingenuity Mars Helicopter\", 'Join NASA for the Launch of the Mars 2020 Perseverance Rover', \"NASA's Perseverance Rover Attached to Atlas V Rocket\", '7 Things to Know About the Mars 2020 Perseverance Rover Mission', \"NASA's InSight Flexes Its Arm While Its 'Mole' Hits Pause\", \"Curiosity Mars Rover's Summer Road Trip Has Begun\"]\n",
      "[None, None, None, None, None, None, None, None, None, None, None, None, None, None, None, None, None, None, None, None, None, None, None, None, None, None, None, None, None, None, None, None, None, None, None, None, None, None, None, None]\n"
     ]
    }
   ],
   "source": [
    "#Use beautiful soup to collect and append titles to list\n",
    "html = browser.html\n",
    "soup = BeautifulSoup(html, 'html.parser')\n",
    "titles = []\n",
    "\n",
    "results = soup.find_all(\"div\",class_=\"content_title\")\n",
    "\n",
    "for entry in results[1:-10]:\n",
    "    div_tag = entry.find(\"a\").text\n",
    "    titles.append(div_tag)\n",
    "print(titles)"
   ]
  },
  {
   "cell_type": "code",
   "execution_count": 110,
   "metadata": {},
   "outputs": [
    {
     "name": "stdout",
     "output_type": "stream",
     "text": [
      "['During this next phase, the program will mature critical technologies and make critical design decisions as well as assess industry partnerships.', 'Scientists are finding new mysteries since the geophysics mission landed two years ago.', 'Bill Allen has thrived as the mechanical systems design lead for three Mars rover missions, but he got his start as a teenager sorting letters for the NASA center.', \"The symbols, mottos, and small objects added to the agency's newest Mars rover serve a variety of purposes, from functional to decorative.\", \"NASA's Perseverance rover carries a device to convert Martian air into oxygen that, if produced on a larger scale, could be used not just for breathing, but also for fuel.\", \"The first to be rigged with microphones, the agency's latest Mars rover picked up the subtle sounds of its own inner workings during interplanetary flight.\", \"Sensors on NASA's Perseverance will help prepare for future human exploration by taking weather measurements and studying dust particles.\", 'Scientists using an instrument aboard NASA’s Mars Atmosphere and Volatile EvolutioN, or MAVEN, spacecraft have discovered that water vapor near the surface of the Red Planet is lofted higher into the atmosphere than anyone expected was possible. ', 'The Mars rover has drilled three samples of rock in this clay-enriched region since arriving in July.', 'NASA released an independent review report Tuesday indicating the agency is well positioned for its Mars Sample Return campaign to bring pristine samples from Mars to Earth for scientific study.', \"Mark your calendars: The agency's latest rover has only about 8,640,000 seconds to go before it touches down on the Red Planet, becoming history's next Mars car.\", \"Sometimes half measures can be a good thing – especially on a journey this long. The agency's latest rover only has about 146 million miles left to reach its destination.\", \"Instruments tailored to collect data during the descent of NASA's next rover through the Red Planet's atmosphere have been checked in flight.\", \"For hobbyists and makers, 3D printing expands creative possibilities; for specialized engineers, it's also key to next-generation spacecraft design.\", \"Now that the heat probe is just below the Martian surface, InSight's arm will scoop some additional soil on top to help it keep digging so it can take Mars' temperature.\", \"The agency's newest rover will use the first ground-penetrating radar instrument on the Martian surface to help search for signs of past microbial life. \", \"It's the first time machine learning has been used to find previously unknown craters on the Red Planet.\", 'Perseverance is one of a few Mars spacecraft carrying laser retroreflectors. The devices could provide new science and safer Mars landings in the future.', \"PIXL, an instrument on the end of the Perseverance rover's arm, will search for chemical fingerprints left by ancient microbes.\", 'In honor of Hispanic Heritage Month, Christina Hernandez, an instrument engineer on the Mars 2020 mission, talks about her childhood and journey to NASA.', \"Did you know NASA's next Mars rover has a nearly identical sibling on Earth for testing? Even better, it's about to roll for the first time through a replica Martian landscape.\", 'An electronics issue is suspected to be preventing the sensors from sharing their data about Mars weather with the spacecraft.', \"A crisply rendered web application can show you where the agency's Mars 2020 mission is right now as it makes its way to the Red Planet for a Feb. 18, 2021, landing.\", 'The board will assist with analysis of current plans and goals for one of the most difficult missions humanity has ever undertaken.', 'Headed to the Red Planet with the Perseverance rover, the pioneering helicopter is powered up for the first time in interplanetary space as part of a systems check.', 'Marking its 15th anniversary since launch, one of the oldest spacecraft at the Red Planet has provided glimpses of dust devils, avalanches, and more.', 'Vast areas of the Martian night sky pulse in ultraviolet light, according to images from NASA’s MAVEN spacecraft. The results are being used to illuminate complex circulation patterns in the Martian atmosphere.', 'The NASA rover touched down eight years ago, on Aug. 5, 2012, and will soon be joined by a second rover, Perseverance.', \"The agency's Mars 2020 mission is on its way. It will land at Jezero Crater in about seven months, on Feb. 18, 2021. \", 'In a Q&A, spacesuit designer Amy Ross explains how five samples, including a piece of helmet visor, will be tested aboard the rover, which is targeting a July 30 launch. ', 'With a targeted launch date of July 30, the next robotic scientist NASA is sending to the to the Red Planet has big ambitions.', 'There are lots of ways to participate in the historic event, which is targeted for July 30.', \"\\u200bThe agency's Mars 2020 mission has one more big prelaunch review – the Launch Readiness Review, on July 27.\", 'Starting July 27, news activities will cover everything from mission engineering and science to returning samples from Mars to, of course, the launch itself.', 'The first helicopter attempting to fly on another planet is a marvel of engineering. Get up to speed with these key facts about its plans.', 'No matter where you live, choose from a menu of activities to join NASA as we \"Countdown to Mars\" and launch the Perseverance rover to the Red Planet.', 'Ready for its launch later in the month, the Mars-bound rover will touch terra firma no more.', \"NASA's next rover to the Red Planet is slated to launch no earlier than July 30. These highlights will get you up to speed on the ambitious mission.\", \"Now that the lander's robotic arm has helped the mole get underground, it will resume science activities that have been on hold.\", 'After more than a year in the \"clay-bearing unit,\" Curiosity is making a mile-long journey around some deep sand so that it can explore higher up Mount Sharp.']\n"
     ]
    }
   ],
   "source": [
    "#use beautiful soup to append paragraphs to list\n",
    "html2 = browser.html\n",
    "soup2 = BeautifulSoup(html2, 'html.parser')\n",
    "teasers = []\n",
    "\n",
    "results2 = soup2.find_all(\"div\",class_=\"article_teaser_body\")\n",
    "for entry in results2[0:]:\n",
    "    div_2 = entry.text\n",
    "    teasers.append(div_2)\n",
    "print(teasers)\n"
   ]
  }
 ],
 "metadata": {
  "kernelspec": {
   "display_name": "Python [conda env:PythonData] *",
   "language": "python",
   "name": "conda-env-PythonData-py"
  },
  "language_info": {
   "codemirror_mode": {
    "name": "ipython",
    "version": 3
   },
   "file_extension": ".py",
   "mimetype": "text/x-python",
   "name": "python",
   "nbconvert_exporter": "python",
   "pygments_lexer": "ipython3",
   "version": "3.6.12"
  }
 },
 "nbformat": 4,
 "nbformat_minor": 4
}
