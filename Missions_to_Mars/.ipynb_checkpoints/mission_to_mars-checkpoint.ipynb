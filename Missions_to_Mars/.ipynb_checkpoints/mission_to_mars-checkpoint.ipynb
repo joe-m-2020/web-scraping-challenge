{
 "cells": [
  {
   "cell_type": "code",
   "execution_count": 1,
   "metadata": {},
   "outputs": [],
   "source": [
    "from splinter import Browser\n",
    "from bs4 import BeautifulSoup\n",
    "import pandas as pd"
   ]
  },
  {
   "cell_type": "code",
   "execution_count": 2,
   "metadata": {},
   "outputs": [],
   "source": [
    "executable_path = {'executable_path': 'chromedriver.exe'}\n",
    "browser = Browser('chrome', **executable_path, headless=False)"
   ]
  },
  {
   "cell_type": "code",
   "execution_count": 3,
   "metadata": {},
   "outputs": [],
   "source": [
    "url = 'https://mars.nasa.gov/news/'\n",
    "browser.visit(url)"
   ]
  },
  {
   "cell_type": "code",
   "execution_count": 4,
   "metadata": {},
   "outputs": [],
   "source": [
    "#Use beautiful soup to collect and append titles to list then take\n",
    "# first entry as top_news_title\n",
    "html = browser.html\n",
    "soup = BeautifulSoup(html, 'html.parser')\n",
    "nasa_news_titles = []\n",
    "\n",
    "results = soup.find_all(\"div\",class_=\"content_title\")\n",
    "\n",
    "for entry in results[1:-10]:\n",
    "    div_tag = entry.find(\"a\").text\n",
    "    nasa_news_titles.append(div_tag)\n",
    "top_news_title = nasa_news_titles[0]"
   ]
  },
  {
   "cell_type": "code",
   "execution_count": 5,
   "metadata": {},
   "outputs": [],
   "source": [
    "#use beautiful soup to append paragraphs to list then take first entry as \n",
    "# news_p\n",
    "html2 = browser.html\n",
    "soup2 = BeautifulSoup(html2, 'html.parser')\n",
    "teasers = []\n",
    "\n",
    "results2 = soup2.find_all(\"div\",class_=\"article_teaser_body\")\n",
    "for entry2 in results2[0:]:\n",
    "    div_2 = entry2.text\n",
    "    teasers.append(div_2)\n",
    "\n",
    "news_paragraph = teasers[0]\n"
   ]
  },
  {
   "cell_type": "code",
   "execution_count": 24,
   "metadata": {},
   "outputs": [
    {
     "ename": "TypeError",
     "evalue": "'NoneType' object is not subscriptable",
     "output_type": "error",
     "traceback": [
      "\u001b[1;31m---------------------------------------------------------------------------\u001b[0m",
      "\u001b[1;31mTypeError\u001b[0m                                 Traceback (most recent call last)",
      "\u001b[1;32m<ipython-input-24-f9070c9b7997>\u001b[0m in \u001b[0;36m<module>\u001b[1;34m\u001b[0m\n\u001b[0;32m     16\u001b[0m     \u001b[0msoup_4\u001b[0m \u001b[1;33m=\u001b[0m \u001b[0mBeautifulSoup\u001b[0m\u001b[1;33m(\u001b[0m\u001b[0mhtml_4\u001b[0m\u001b[1;33m,\u001b[0m \u001b[1;34m'html.parser'\u001b[0m\u001b[1;33m)\u001b[0m\u001b[1;33m\u001b[0m\u001b[1;33m\u001b[0m\u001b[0m\n\u001b[0;32m     17\u001b[0m     \u001b[0mresults_4\u001b[0m \u001b[1;33m=\u001b[0m \u001b[0msoup_4\u001b[0m\u001b[1;33m.\u001b[0m\u001b[0mfind\u001b[0m\u001b[1;33m(\u001b[0m\u001b[1;34m'img'\u001b[0m\u001b[1;33m,\u001b[0m \u001b[0mclass_\u001b[0m\u001b[1;33m=\u001b[0m\u001b[1;34m\"Base_image object-scale-down\"\u001b[0m\u001b[1;33m)\u001b[0m\u001b[1;33m\u001b[0m\u001b[1;33m\u001b[0m\u001b[0m\n\u001b[1;32m---> 18\u001b[1;33m     \u001b[0ma_tag_2\u001b[0m\u001b[1;33m=\u001b[0m \u001b[0mresults_4\u001b[0m\u001b[1;33m[\u001b[0m\u001b[1;34m'data-srcset'\u001b[0m\u001b[1;33m]\u001b[0m\u001b[1;33m\u001b[0m\u001b[1;33m\u001b[0m\u001b[0m\n\u001b[0m\u001b[0;32m     19\u001b[0m \u001b[0mfeatured_image_url\u001b[0m \u001b[1;33m=\u001b[0m \u001b[0ma_tag_2\u001b[0m\u001b[1;33m\u001b[0m\u001b[1;33m\u001b[0m\u001b[0m\n",
      "\u001b[1;31mTypeError\u001b[0m: 'NoneType' object is not subscriptable"
     ]
    }
   ],
   "source": [
    "# Find featured image on jpl.nasa.gov/spaceimages/?search=&category=Mars\n",
    "#click through data link to find expanded size img src\n",
    "executable_path = {'executable_path': 'chromedriver.exe'}\n",
    "browser = Browser('chrome', **executable_path, headless=False)\n",
    "url_3 = \"https://www.jpl.nasa.gov/spaceimages/?search=&category=Mars\"\n",
    "browser.visit(url_3)\n",
    "html_3 = browser.html\n",
    "soup_3 = BeautifulSoup(html_3, 'html.parser')\n",
    "\n",
    "results_3 = soup_3.find_all(\"div\", class_=\"SearchResultCard\")\n",
    "for entry1 in results_3:\n",
    "    a_tag = entry1.find('a')\n",
    "    link_url='https://www.jpl.nasa.gov' + a_tag['href']\n",
    "    browser.visit(link_url)\n",
    "    html_4 = browser.html\n",
    "    soup_4 = BeautifulSoup(html_4, 'html.parser')\n",
    "    results_4 = soup_4.find('img', class_=\"Base_image object-scale-down\")\n",
    "    a_tag_2= results_4['data-srcset'][0]\n",
    "featured_image_url = a_tag_2"
   ]
  },
  {
   "cell_type": "code",
   "execution_count": null,
   "metadata": {
    "scrolled": true
   },
   "outputs": [],
   "source": [
    "# URL for main image on scrolling carousel at any given time\n",
    "featured_image_url"
   ]
  },
  {
   "cell_type": "code",
   "execution_count": null,
   "metadata": {},
   "outputs": [],
   "source": [
    "# pull table data\n",
    "mars_facts_url = \"https://space-facts.com/mars/\"\n",
    "tables = pd.read_html(mars_facts_url)\n"
   ]
  },
  {
   "cell_type": "code",
   "execution_count": null,
   "metadata": {},
   "outputs": [],
   "source": [
    "# put data in dataframe\n",
    "mars_facts_df = tables[0]\n",
    "mars_facts_df.columns = ['Data','Values']\n",
    "mars_facts_df.head()"
   ]
  },
  {
   "cell_type": "code",
   "execution_count": null,
   "metadata": {},
   "outputs": [],
   "source": [
    "# set index as Data\n",
    "mars_facts_df.set_index('Data', inplace=True)\n",
    "mars_facts_df.head()"
   ]
  },
  {
   "cell_type": "code",
   "execution_count": null,
   "metadata": {
    "scrolled": true
   },
   "outputs": [],
   "source": [
    "# Use pandas function df.to_html() to create a table in HTML\n",
    "mars_facts_html_table = df.to_html()\n",
    "mars_facts_html_table"
   ]
  },
  {
   "cell_type": "code",
   "execution_count": null,
   "metadata": {},
   "outputs": [],
   "source": [
    "# Pull item class to grab link to hemisphere pages and use as list in for loop\n",
    "\n",
    "hemisphere_url =\"https://astrogeology.usgs.gov/search/results?q=hemisphere+enhanced&k1=target&v1=Mars\"\n",
    "browser.visit(hemisphere_url)\n",
    "html5 = browser.html\n",
    "soup_5 = BeautifulSoup(html5, 'html.parser')\n",
    "results_hem=soup_5.find_all('div',class_=\"item\")\n"
   ]
  },
  {
   "cell_type": "code",
   "execution_count": null,
   "metadata": {},
   "outputs": [],
   "source": [
    "# Create containers for images and titles\n",
    "\n",
    "mars_hemisphere_images=[]\n",
    "mars_image_titles = []\n",
    "\n",
    "# Use for loop to visit pages; CSS selector for link because it is the most \n",
    "# precise direction while soup.find works well for the titles since the\n",
    "# class is title\n",
    "\n",
    "for result in results_hem:\n",
    "    a_tag_5 = result.find('a')\n",
    "    hemi_link = a_tag_5['href']\n",
    "    new_link = \"https://astrogeology.usgs.gov\" + hemi_link\n",
    "    browser.visit(new_link)\n",
    "    html6 = browser.html\n",
    "    soup_6 = BeautifulSoup(html6, 'html.parser')\n",
    "    selector = soup_6.select('li > a[href$=\"jpg\"]')\n",
    "    link_list = selector[0]\n",
    "    mars_hemisphere_images.append(link_list['href'])\n",
    "    find_titles = soup_6.find('h2', class_='title').text\n",
    "    mars_image_titles.append(find_titles)"
   ]
  },
  {
   "cell_type": "code",
   "execution_count": null,
   "metadata": {},
   "outputs": [],
   "source": [
    "# Use for loop to append images and titles to dictionaries in a list\n",
    "hemisphere_image_urls=[]\n",
    "\n",
    "for x in range(4):\n",
    "    url_dict = {}\n",
    "    url_dict['title']=titles[x]\n",
    "    url_dict['image_url']=images[x]\n",
    "    hemisphere_image_urls.append(url_dict)\n",
    "    "
   ]
  },
  {
   "cell_type": "code",
   "execution_count": null,
   "metadata": {},
   "outputs": [],
   "source": [
    "hemisphere_image_urls"
   ]
  }
 ],
 "metadata": {
  "kernelspec": {
   "display_name": "Python [conda env:PythonData] *",
   "language": "python",
   "name": "conda-env-PythonData-py"
  },
  "language_info": {
   "codemirror_mode": {
    "name": "ipython",
    "version": 3
   },
   "file_extension": ".py",
   "mimetype": "text/x-python",
   "name": "python",
   "nbconvert_exporter": "python",
   "pygments_lexer": "ipython3",
   "version": "3.6.12"
  }
 },
 "nbformat": 4,
 "nbformat_minor": 4
}
