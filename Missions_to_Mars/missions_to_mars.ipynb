{
 "cells": [
  {
   "cell_type": "code",
   "execution_count": 13,
   "metadata": {},
   "outputs": [],
   "source": [
    "from splinter import Browser\n",
    "from bs4 import BeautifulSoup"
   ]
  },
  {
   "cell_type": "code",
   "execution_count": 14,
   "metadata": {},
   "outputs": [],
   "source": [
    "executable_path = {'executable_path': 'chromedriver.exe'}\n",
    "browser = Browser('chrome', **executable_path, headless=False)"
   ]
  },
  {
   "cell_type": "code",
   "execution_count": 15,
   "metadata": {},
   "outputs": [],
   "source": [
    "url = 'https://mars.nasa.gov/news/'\n",
    "browser.visit(url)"
   ]
  },
  {
   "cell_type": "code",
   "execution_count": 112,
   "metadata": {},
   "outputs": [],
   "source": [
    "#Use beautiful soup to collect and append titles to list then take\n",
    "# first entry as news_title\n",
    "html = browser.html\n",
    "soup = BeautifulSoup(html, 'html.parser')\n",
    "titles = []\n",
    "\n",
    "results = soup.find_all(\"div\",class_=\"content_title\")\n",
    "\n",
    "for entry in results[1:-10]:\n",
    "    div_tag = entry.find(\"a\").text\n",
    "    titles.append(div_tag)\n",
    "news_title = titles[0]"
   ]
  },
  {
   "cell_type": "code",
   "execution_count": 123,
   "metadata": {},
   "outputs": [],
   "source": [
    "#use beautiful soup to append paragraphs to list then take first entry as \n",
    "# news_p\n",
    "html2 = browser.html\n",
    "soup2 = BeautifulSoup(html2, 'html.parser')\n",
    "teasers = []\n",
    "\n",
    "results2 = soup2.find_all(\"div\",class_=\"article_teaser_body\")\n",
    "for entry2 in results2[0:]:\n",
    "    div_2 = entry2.text\n",
    "    teasers.append(div_2)\n",
    "\n",
    "news_p = teasers[0]\n"
   ]
  },
  {
   "cell_type": "code",
   "execution_count": 225,
   "metadata": {},
   "outputs": [],
   "source": [
    "# Find featured image on jpl.nasa.gov/spaceimages/?search=&category=Mars\n",
    "url_3 = \"https://www.jpl.nasa.gov/spaceimages/?search=&category=Mars\"\n",
    "browser.visit(url_3)\n",
    "html_3 = browser.html\n",
    "soup_3 = BeautifulSoup(html_3, 'html.parser')\n",
    "\n",
    "results_3 = soup_3.find_all(\"div\", class_=\"carousel_items\")\n",
    "for entry1 in results_3:\n",
    "    a_tag = entry1.find('a')\n",
    "    link_url='https://www.jpl.nasa.gov/' + a_tag['data-fancybox-href']\n",
    "    browser.visit(link_url)\n",
    "    html_4 = browser.html\n",
    "    soup_4 = BeautifulSoup(html_4, 'html.parser')\n",
    "    results_4 = soup_4.find('img')\n",
    "    src_img=results_4['src']"
   ]
  },
  {
   "cell_type": "code",
   "execution_count": 217,
   "metadata": {},
   "outputs": [],
   "source": []
  }
 ],
 "metadata": {
  "kernelspec": {
   "display_name": "Python [conda env:PythonData] *",
   "language": "python",
   "name": "conda-env-PythonData-py"
  },
  "language_info": {
   "codemirror_mode": {
    "name": "ipython",
    "version": 3
   },
   "file_extension": ".py",
   "mimetype": "text/x-python",
   "name": "python",
   "nbconvert_exporter": "python",
   "pygments_lexer": "ipython3",
   "version": "3.6.12"
  }
 },
 "nbformat": 4,
 "nbformat_minor": 4
}
